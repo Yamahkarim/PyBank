{
 "cells": [
  {
   "cell_type": "markdown",
   "metadata": {},
   "source": [
    "# <h1> PyBank: Python Challenge"
   ]
  },
  {
   "cell_type": "markdown",
   "metadata": {},
   "source": [
    "In this assignment, I have been tasked with analyzing the budget data set and perfroming analysis to calculate the following:\n",
    "    \n",
    "    1.) The total number of months included in the dataset\n",
    "\n",
    "    2.) The net total amount of \"Profit/Losses\" over the entire period\n",
    "\n",
    "    3.) The average of the changes in \"Profit/Losses\" over the entire period\n",
    "\n",
    "    4.) The greatest increase in profits (date and amount) over the entire period\n",
    "\n",
    "    5.) The greatest decrease in losses (date and amount) over the entire period"
   ]
  },
  {
   "cell_type": "code",
   "execution_count": 8,
   "metadata": {},
   "outputs": [],
   "source": [
    "#dependencies\n",
    "import os \n",
    "import csv \n"
   ]
  },
  {
   "cell_type": "code",
   "execution_count": 9,
   "metadata": {},
   "outputs": [],
   "source": [
    "#import file\n",
    "csvpath = \"Data/budget_data.csv\" \n",
    "\n",
    "#read csv\n",
    "with open(csvpath, 'r') as csvfile:\n",
    "    reader = csv.reader(csvfile, delimiter=',')\n",
    "    \n",
    "    # skip header\n",
    "    csv_header = next(reader) \n",
    "    \n",
    "    #create empty lists to store and iterate calculations \n",
    "    dates = []\n",
    "    money = []\n",
    "    change = [] \n",
    "    change_alt = [] \n",
    "    previous = 0 \n",
    "    \n",
    "    #Populate lists with corresponding information for date and profit with a for-loop \n",
    "    for row in reader:\n",
    "        #populates dates \n",
    "        dates.append(row[0])\n",
    "    \n",
    "        #populate profit list\n",
    "        money.append(row[1])\n",
    "        \n",
    "        #populate change in profit\n",
    "        diff = int(row[1]) - int(previous)\n",
    "        previous = row[1]\n",
    "        change.append(diff)\n",
    "    "
   ]
  },
  {
   "cell_type": "code",
   "execution_count": 10,
   "metadata": {},
   "outputs": [],
   "source": [
    "#Combine information from dates and money into paired tuples by using zip function\n",
    "zipped = zip(dates, change)\n",
    "zipped_lst = list(zipped)\n",
    "\n",
    "change.remove(change[0])\n",
    "zipped_lst.remove(zipped_lst[0])"
   ]
  },
  {
   "cell_type": "code",
   "execution_count": 11,
   "metadata": {},
   "outputs": [],
   "source": [
    "#perform calculations \n",
    "total_months = len(dates)\n",
    "total_profit = sum(map(int, money))\n",
    "average_change = sum(change) / len(change)\n",
    "increase = max(change)\n",
    "decrease = min(change)"
   ]
  },
  {
   "cell_type": "code",
   "execution_count": 12,
   "metadata": {},
   "outputs": [],
   "source": [
    "#Calculate Monthinly increase and decrease with an if, then for-loop \n",
    "month_dec = 0\n",
    "month_inc = 0\n",
    "\n",
    "for row in zipped_lst:\n",
    "    if row[1] == increase:\n",
    "        month_inc = row[0]\n",
    "    if row[1] == decrease:\n",
    "        month_dec = row[0]"
   ]
  },
  {
   "cell_type": "code",
   "execution_count": 13,
   "metadata": {},
   "outputs": [
    {
     "name": "stdout",
     "output_type": "stream",
     "text": [
      "Financial Analysis\n",
      "___________________________\n",
      "Total Months: 86\n",
      "Total Profit: $38382578\n",
      "Average Change: $-2315.12\n",
      "Greatest Increase in Profits: Feb-12 (1926159)\n",
      "Greatest Decrease in Profits: Sep-13 (-2196167)\n"
     ]
    }
   ],
   "source": [
    "print(f'Financial Analysis')\n",
    "print(f'___________________________')\n",
    "print(f'Total Months: {total_months}')\n",
    "print(f'Total Profit: ${total_profit}')\n",
    "print(f'Average Change: ${average_change:.2f}')\n",
    "print(f'Greatest Increase in Profits: {month_inc} ({increase})')\n",
    "print(f'Greatest Decrease in Profits: {month_dec} ({decrease})')\n"
   ]
  },
  {
   "cell_type": "code",
   "execution_count": 14,
   "metadata": {},
   "outputs": [],
   "source": [
    "#write analysis to a .txt file \n",
    "with open('PyBank.txt', 'w') as text_file:\n",
    "    print(f'Financial Analysis', file=text_file)\n",
    "    print(f'___________________________', file=text_file)\n",
    "    print(f'Total Months: {total_months}', file=text_file)\n",
    "    print(f'Total Profit: ${total_profit}', file=text_file)\n",
    "    print(f'Average Change: ${average_change:.2f}', file=text_file)\n",
    "    print(f'Greatest Increase in Profits: {month_inc} ({increase})', file=text_file)\n",
    "    print(f'Greatest Decrease in Profits: {month_dec} ({decrease})', file=text_file)\n"
   ]
  },
  {
   "cell_type": "code",
   "execution_count": null,
   "metadata": {},
   "outputs": [],
   "source": []
  },
  {
   "cell_type": "code",
   "execution_count": null,
   "metadata": {},
   "outputs": [],
   "source": []
  }
 ],
 "metadata": {
  "kernelspec": {
   "display_name": "Python 3",
   "language": "python",
   "name": "python3"
  },
  "language_info": {
   "codemirror_mode": {
    "name": "ipython",
    "version": 3
   },
   "file_extension": ".py",
   "mimetype": "text/x-python",
   "name": "python",
   "nbconvert_exporter": "python",
   "pygments_lexer": "ipython3",
   "version": "3.7.1"
  }
 },
 "nbformat": 4,
 "nbformat_minor": 2
}
